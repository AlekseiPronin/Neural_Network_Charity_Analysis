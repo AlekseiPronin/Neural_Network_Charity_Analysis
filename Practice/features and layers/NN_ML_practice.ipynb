{
 "cells": [
  {
   "cell_type": "code",
   "execution_count": 1,
   "id": "668aafc3",
   "metadata": {},
   "outputs": [],
   "source": [
    "# pip install --upgrade tensorflow"
   ]
  },
  {
   "cell_type": "code",
   "execution_count": 2,
   "id": "c601ef5e",
   "metadata": {},
   "outputs": [],
   "source": [
    "# Import our dependencies\n",
    "import pandas as pd\n",
    "import matplotlib as plt\n",
    "from sklearn.datasets import make_blobs\n",
    "import sklearn as skl\n",
    "import tensorflow as tf"
   ]
  },
  {
   "cell_type": "markdown",
   "id": "e3bf30cc",
   "metadata": {},
   "source": [
    "## Single layer\n",
    "### Linear data\n"
   ]
  },
  {
   "cell_type": "code",
   "execution_count": 3,
   "id": "686d84be",
   "metadata": {},
   "outputs": [
    {
     "data": {
      "text/plain": [
       "<AxesSubplot:xlabel='Feature 1', ylabel='Feature 2'>"
      ]
     },
     "execution_count": 3,
     "metadata": {},
     "output_type": "execute_result"
    },
    {
     "data": {
      "image/png": "[encoded data removed]",
      "text/plain": [
       "<Figure size 432x288 with 2 Axes>"
      ]
     },
     "metadata": {
      "needs_background": "light"
     },
     "output_type": "display_data"
    }
   ],
   "source": [
    "# Generate dummy dataset\n",
    "X, y = make_blobs(n_samples=1000, centers=2, n_features=2, random_state=78)\n",
    "\n",
    "# Creating a DataFrame with the dummy data\n",
    "df = pd.DataFrame(X, columns=[\"Feature 1\", \"Feature 2\"])\n",
    "df[\"Target\"] = y\n",
    "\n",
    "# Plotting the dummy data\n",
    "df.plot.scatter(x=\"Feature 1\", y=\"Feature 2\", c=\"Target\", colormap=\"winter\")"
   ]
  },
  {
   "cell_type": "code",
   "execution_count": 4,
   "id": "2ed74aee",
   "metadata": {},
   "outputs": [],
   "source": [
    "# Use sklearn to split dataset\n",
    "from sklearn.model_selection import train_test_split\n",
    "X_train, X_test, y_train, y_test = train_test_split(X, y, random_state=78)"
   ]
  },
  {
   "cell_type": "code",
   "execution_count": 5,
   "id": "3f3aa9be",
   "metadata": {},
   "outputs": [],
   "source": [
    "# Create scaler instance\n",
    "X_scaler = skl.preprocessing.StandardScaler()\n",
    "\n",
    "# Fit the scaler\n",
    "X_scaler.fit(X_train)\n",
    "\n",
    "# Scale the data\n",
    "X_train_scaled = X_scaler.transform(X_train)\n",
    "X_test_scaled = X_scaler.transform(X_test)"
   ]
  },
  {
   "cell_type": "code",
   "execution_count": 6,
   "id": "bdbd213e",
   "metadata": {},
   "outputs": [],
   "source": [
    "# Create the Keras Sequential model\n",
    "nn_model = tf.keras.models.Sequential()"
   ]
  },
  {
   "cell_type": "code",
   "execution_count": 7,
   "id": "cbc6d037",
   "metadata": {},
   "outputs": [],
   "source": [
    "# Add our first Dense layer, including the input layer\n",
    "nn_model.add(tf.keras.layers.Dense(units=1, activation=\"relu\", input_dim=2))\n"
   ]
  },
  {
   "cell_type": "code",
   "execution_count": 8,
   "id": "0ec8314b",
   "metadata": {},
   "outputs": [],
   "source": [
    "# Add the output layer that uses a probability activation function\n",
    "nn_model.add(tf.keras.layers.Dense(units=1, activation=\"sigmoid\"))"
   ]
  },
  {
   "cell_type": "code",
   "execution_count": 9,
   "id": "83d470f2",
   "metadata": {},
   "outputs": [
    {
     "name": "stdout",
     "output_type": "stream",
     "text": [
      "Model: \"sequential\"\n",
      "_________________________________________________________________\n",
      " Layer (type)                Output Shape              Param #   \n",
      "=================================================================\n",
      " dense (Dense)               (None, 1)                 3         \n",
      "                                                                 \n",
      " dense_1 (Dense)             (None, 1)                 2         \n",
      "                                                                 \n",
      "=================================================================\n",
      "Total params: 5\n",
      "Trainable params: 5\n",
      "Non-trainable params: 0\n",
      "_________________________________________________________________\n"
     ]
    }
   ],
   "source": [
    "# Check the structure of the Sequential model\n",
    "nn_model.summary()"
   ]
  },
  {
   "cell_type": "code",
   "execution_count": 10,
   "id": "0bf8c2e4",
   "metadata": {},
   "outputs": [],
   "source": [
    "# Compile the Sequential model together and customize metrics\n",
    "nn_model.compile(loss=\"binary_crossentropy\", optimizer=\"adam\", metrics=[\"accuracy\"])"
   ]
  },
  {
   "cell_type": "code",
   "execution_count": 11,
   "id": "8e273c01",
   "metadata": {},
   "outputs": [
    {
     "name": "stdout",
     "output_type": "stream",
     "text": [
      "Epoch 1/100\n",
      "WARNING:tensorflow:AutoGraph could not transform <function Model.make_train_function.<locals>.train_function at 0x000001C285D9CB88> and will run it as-is.\n",
      "Please report this to the TensorFlow team. When filing the bug, set the verbosity to 10 (on Linux, `export AUTOGRAPH_VERBOSITY=10`) and attach the full output.\n",
      "Cause: 'arguments' object has no attribute 'posonlyargs'\n",
      "To silence this warning, decorate the function with @tf.autograph.experimental.do_not_convert\n",
      "WARNING: AutoGraph could not transform <function Model.make_train_function.<locals>.train_function at 0x000001C285D9CB88> and will run it as-is.\n",
      "Please report this to the TensorFlow team. When filing the bug, set the verbosity to 10 (on Linux, `export AUTOGRAPH_VERBOSITY=10`) and attach the full output.\n",
      "Cause: 'arguments' object has no attribute 'posonlyargs'\n",
      "To silence this warning, decorate the function with @tf.autograph.experimental.do_not_convert\n",
      "24/24 [==============================] - 0s 631us/step - loss: 0.5411 - accuracy: 0.9493\n",
      "Epoch 2/100\n",
      "24/24 [==============================] - 0s 607us/step - loss: 0.5259 - accuracy: 0.9533\n",
      "Epoch 3/100\n",
      "24/24 [==============================] - 0s 607us/step - loss: 0.5112 - accuracy: 0.9547\n",
      "Epoch 4/100\n",
      "24/24 [==============================] - 0s 607us/step - loss: 0.4968 - accuracy: 0.9573\n",
      "Epoch 5/100\n",
      "24/24 [==============================] - 0s 781us/step - loss: 0.4826 - accuracy: 0.9640\n",
      "Epoch 6/100\n",
      "24/24 [==============================] - 0s 737us/step - loss: 0.4690 - accuracy: 0.9680\n",
      "Epoch 7/100\n",
      "24/24 [==============================] - 0s 650us/step - loss: 0.4556 - accuracy: 0.9693\n",
      "Epoch 8/100\n",
      "24/24 [==============================] - 0s 737us/step - loss: 0.4428 - accuracy: 0.9693\n",
      "Epoch 9/100\n",
      "24/24 [==============================] - 0s 694us/step - loss: 0.4304 - accuracy: 0.9733\n",
      "Epoch 10/100\n",
      "24/24 [==============================] - 0s 650us/step - loss: 0.4185 - accuracy: 0.9747\n",
      "Epoch 11/100\n",
      "24/24 [==============================] - 0s 607us/step - loss: 0.4071 - accuracy: 0.9787\n",
      "Epoch 12/100\n",
      "24/24 [==============================] - 0s 607us/step - loss: 0.3961 - accuracy: 0.9787\n",
      "Epoch 13/100\n",
      "24/24 [==============================] - 0s 650us/step - loss: 0.3855 - accuracy: 0.9800\n",
      "Epoch 14/100\n",
      "24/24 [==============================] - 0s 607us/step - loss: 0.3754 - accuracy: 0.9827\n",
      "Epoch 15/100\n",
      "24/24 [==============================] - 0s 607us/step - loss: 0.3656 - accuracy: 0.9840\n",
      "Epoch 16/100\n",
      "24/24 [==============================] - 0s 650us/step - loss: 0.3563 - accuracy: 0.9840\n",
      "Epoch 17/100\n",
      "24/24 [==============================] - 0s 607us/step - loss: 0.3472 - accuracy: 0.9840\n",
      "Epoch 18/100\n",
      "24/24 [==============================] - 0s 607us/step - loss: 0.3385 - accuracy: 0.9840\n",
      "Epoch 19/100\n",
      "24/24 [==============================] - 0s 607us/step - loss: 0.3300 - accuracy: 0.9840\n",
      "Epoch 20/100\n",
      "24/24 [==============================] - 0s 607us/step - loss: 0.3218 - accuracy: 0.9853\n",
      "Epoch 21/100\n",
      "24/24 [==============================] - 0s 650us/step - loss: 0.3139 - accuracy: 0.9853\n",
      "Epoch 22/100\n",
      "24/24 [==============================] - 0s 564us/step - loss: 0.3063 - accuracy: 0.9853\n",
      "Epoch 23/100\n",
      "24/24 [==============================] - 0s 607us/step - loss: 0.2988 - accuracy: 0.9867\n",
      "Epoch 24/100\n",
      "24/24 [==============================] - 0s 564us/step - loss: 0.2917 - accuracy: 0.9867\n",
      "Epoch 25/100\n",
      "24/24 [==============================] - 0s 564us/step - loss: 0.2847 - accuracy: 0.9867\n",
      "Epoch 26/100\n",
      "24/24 [==============================] - 0s 607us/step - loss: 0.2780 - accuracy: 0.9867\n",
      "Epoch 27/100\n",
      "24/24 [==============================] - 0s 607us/step - loss: 0.2715 - accuracy: 0.9867\n",
      "Epoch 28/100\n",
      "24/24 [==============================] - 0s 607us/step - loss: 0.2653 - accuracy: 0.9867\n",
      "Epoch 29/100\n",
      "24/24 [==============================] - 0s 607us/step - loss: 0.2592 - accuracy: 0.9880\n",
      "Epoch 30/100\n",
      "24/24 [==============================] - 0s 650us/step - loss: 0.2533 - accuracy: 0.9893\n",
      "Epoch 31/100\n",
      "24/24 [==============================] - 0s 607us/step - loss: 0.2477 - accuracy: 0.9907\n",
      "Epoch 32/100\n",
      "24/24 [==============================] - 0s 651us/step - loss: 0.2421 - accuracy: 0.9933\n",
      "Epoch 33/100\n",
      "24/24 [==============================] - 0s 607us/step - loss: 0.2368 - accuracy: 0.9933\n",
      "Epoch 34/100\n",
      "24/24 [==============================] - 0s 651us/step - loss: 0.2316 - accuracy: 0.9960\n",
      "Epoch 35/100\n",
      "24/24 [==============================] - 0s 607us/step - loss: 0.2265 - accuracy: 0.9960\n",
      "Epoch 36/100\n",
      "24/24 [==============================] - 0s 651us/step - loss: 0.2216 - accuracy: 0.9960\n",
      "Epoch 37/100\n",
      "24/24 [==============================] - 0s 607us/step - loss: 0.2168 - accuracy: 0.9960\n",
      "Epoch 38/100\n",
      "24/24 [==============================] - 0s 607us/step - loss: 0.2122 - accuracy: 0.9960\n",
      "Epoch 39/100\n",
      "24/24 [==============================] - 0s 607us/step - loss: 0.2077 - accuracy: 0.9960\n",
      "Epoch 40/100\n",
      "24/24 [==============================] - 0s 643us/step - loss: 0.2033 - accuracy: 0.9960\n",
      "Epoch 41/100\n",
      "24/24 [==============================] - 0s 607us/step - loss: 0.1991 - accuracy: 0.9960\n",
      "Epoch 42/100\n",
      "24/24 [==============================] - 0s 607us/step - loss: 0.1950 - accuracy: 0.9960\n",
      "Epoch 43/100\n",
      "24/24 [==============================] - 0s 824us/step - loss: 0.1910 - accuracy: 0.9960\n",
      "Epoch 44/100\n",
      "24/24 [==============================] - 0s 737us/step - loss: 0.1871 - accuracy: 0.9973\n",
      "Epoch 45/100\n",
      "24/24 [==============================] - 0s 650us/step - loss: 0.1833 - accuracy: 0.9973\n",
      "Epoch 46/100\n",
      "24/24 [==============================] - 0s 607us/step - loss: 0.1796 - accuracy: 0.9973\n",
      "Epoch 47/100\n",
      "24/24 [==============================] - 0s 694us/step - loss: 0.1760 - accuracy: 0.9973\n",
      "Epoch 48/100\n",
      "24/24 [==============================] - 0s 650us/step - loss: 0.1725 - accuracy: 0.9987\n",
      "Epoch 49/100\n",
      "24/24 [==============================] - 0s 694us/step - loss: 0.1692 - accuracy: 0.9987\n",
      "Epoch 50/100\n",
      "24/24 [==============================] - 0s 564us/step - loss: 0.1659 - accuracy: 0.9987\n",
      "Epoch 51/100\n",
      "24/24 [==============================] - 0s 564us/step - loss: 0.1627 - accuracy: 0.9987\n",
      "Epoch 52/100\n",
      "24/24 [==============================] - 0s 564us/step - loss: 0.1596 - accuracy: 0.9987\n",
      "Epoch 53/100\n",
      "24/24 [==============================] - 0s 564us/step - loss: 0.1565 - accuracy: 0.9987\n",
      "Epoch 54/100\n",
      "24/24 [==============================] - 0s 607us/step - loss: 0.1536 - accuracy: 0.9987\n",
      "Epoch 55/100\n",
      "24/24 [==============================] - 0s 564us/step - loss: 0.1507 - accuracy: 1.0000\n",
      "Epoch 56/100\n",
      "24/24 [==============================] - 0s 564us/step - loss: 0.1479 - accuracy: 1.0000\n",
      "Epoch 57/100\n",
      "24/24 [==============================] - 0s 564us/step - loss: 0.1452 - accuracy: 1.0000\n",
      "Epoch 58/100\n",
      "24/24 [==============================] - 0s 561us/step - loss: 0.1425 - accuracy: 1.0000\n",
      "Epoch 59/100\n",
      "24/24 [==============================] - 0s 520us/step - loss: 0.1399 - accuracy: 1.0000\n",
      "Epoch 60/100\n",
      "24/24 [==============================] - 0s 564us/step - loss: 0.1374 - accuracy: 1.0000\n",
      "Epoch 61/100\n",
      "24/24 [==============================] - 0s 520us/step - loss: 0.1349 - accuracy: 1.0000\n",
      "Epoch 62/100\n",
      "24/24 [==============================] - 0s 564us/step - loss: 0.1325 - accuracy: 1.0000\n",
      "Epoch 63/100\n",
      "24/24 [==============================] - 0s 607us/step - loss: 0.1302 - accuracy: 1.0000\n",
      "Epoch 64/100\n",
      "24/24 [==============================] - 0s 564us/step - loss: 0.1279 - accuracy: 1.0000\n",
      "Epoch 65/100\n",
      "24/24 [==============================] - 0s 607us/step - loss: 0.1257 - accuracy: 1.0000\n",
      "Epoch 66/100\n",
      "24/24 [==============================] - 0s 607us/step - loss: 0.1235 - accuracy: 1.0000\n",
      "Epoch 67/100\n",
      "24/24 [==============================] - 0s 564us/step - loss: 0.1214 - accuracy: 1.0000\n",
      "Epoch 68/100\n",
      "24/24 [==============================] - 0s 564us/step - loss: 0.1193 - accuracy: 1.0000\n",
      "Epoch 69/100\n",
      "24/24 [==============================] - 0s 564us/step - loss: 0.1172 - accuracy: 1.0000\n",
      "Epoch 70/100\n",
      "24/24 [==============================] - 0s 564us/step - loss: 0.1153 - accuracy: 1.0000\n",
      "Epoch 71/100\n",
      "24/24 [==============================] - 0s 520us/step - loss: 0.1133 - accuracy: 1.0000\n",
      "Epoch 72/100\n"
     ]
    },
    {
     "name": "stdout",
     "output_type": "stream",
     "text": [
      "24/24 [==============================] - 0s 564us/step - loss: 0.1114 - accuracy: 1.0000\n",
      "Epoch 73/100\n",
      "24/24 [==============================] - 0s 564us/step - loss: 0.1096 - accuracy: 1.0000\n",
      "Epoch 74/100\n",
      "24/24 [==============================] - 0s 607us/step - loss: 0.1078 - accuracy: 1.0000\n",
      "Epoch 75/100\n",
      "24/24 [==============================] - 0s 564us/step - loss: 0.1060 - accuracy: 1.0000\n",
      "Epoch 76/100\n",
      "24/24 [==============================] - 0s 564us/step - loss: 0.1043 - accuracy: 1.0000\n",
      "Epoch 77/100\n",
      "24/24 [==============================] - 0s 564us/step - loss: 0.1026 - accuracy: 1.0000\n",
      "Epoch 78/100\n",
      "24/24 [==============================] - 0s 564us/step - loss: 0.1009 - accuracy: 1.0000\n",
      "Epoch 79/100\n",
      "24/24 [==============================] - 0s 520us/step - loss: 0.0993 - accuracy: 1.0000\n",
      "Epoch 80/100\n",
      "24/24 [==============================] - 0s 564us/step - loss: 0.0977 - accuracy: 1.0000\n",
      "Epoch 81/100\n",
      "24/24 [==============================] - 0s 564us/step - loss: 0.0962 - accuracy: 1.0000\n",
      "Epoch 82/100\n",
      "24/24 [==============================] - 0s 564us/step - loss: 0.0947 - accuracy: 1.0000\n",
      "Epoch 83/100\n",
      "24/24 [==============================] - 0s 564us/step - loss: 0.0932 - accuracy: 1.0000\n",
      "Epoch 84/100\n",
      "24/24 [==============================] - 0s 564us/step - loss: 0.0917 - accuracy: 1.0000\n",
      "Epoch 85/100\n",
      "24/24 [==============================] - 0s 564us/step - loss: 0.0903 - accuracy: 1.0000\n",
      "Epoch 86/100\n",
      "24/24 [==============================] - 0s 564us/step - loss: 0.0889 - accuracy: 1.0000\n",
      "Epoch 87/100\n",
      "24/24 [==============================] - 0s 564us/step - loss: 0.0876 - accuracy: 1.0000\n",
      "Epoch 88/100\n",
      "24/24 [==============================] - 0s 564us/step - loss: 0.0862 - accuracy: 1.0000\n",
      "Epoch 89/100\n",
      "24/24 [==============================] - 0s 607us/step - loss: 0.0849 - accuracy: 1.0000\n",
      "Epoch 90/100\n",
      "24/24 [==============================] - 0s 520us/step - loss: 0.0836 - accuracy: 1.0000\n",
      "Epoch 91/100\n",
      "24/24 [==============================] - 0s 520us/step - loss: 0.0824 - accuracy: 1.0000\n",
      "Epoch 92/100\n",
      "24/24 [==============================] - 0s 564us/step - loss: 0.0811 - accuracy: 1.0000\n",
      "Epoch 93/100\n",
      "24/24 [==============================] - 0s 607us/step - loss: 0.0799 - accuracy: 1.0000\n",
      "Epoch 94/100\n",
      "24/24 [==============================] - 0s 564us/step - loss: 0.0787 - accuracy: 1.0000\n",
      "Epoch 95/100\n",
      "24/24 [==============================] - 0s 564us/step - loss: 0.0775 - accuracy: 1.0000\n",
      "Epoch 96/100\n",
      "24/24 [==============================] - 0s 564us/step - loss: 0.0764 - accuracy: 1.0000\n",
      "Epoch 97/100\n",
      "24/24 [==============================] - 0s 564us/step - loss: 0.0753 - accuracy: 1.0000\n",
      "Epoch 98/100\n",
      "24/24 [==============================] - 0s 564us/step - loss: 0.0742 - accuracy: 1.0000\n",
      "Epoch 99/100\n",
      "24/24 [==============================] - 0s 520us/step - loss: 0.0731 - accuracy: 1.0000\n",
      "Epoch 100/100\n",
      "24/24 [==============================] - 0s 347us/step - loss: 0.0721 - accuracy: 1.0000\n"
     ]
    }
   ],
   "source": [
    "# Fit the model to the training data\n",
    "fit_model = nn_model.fit(X_train_scaled, y_train, epochs=100)"
   ]
  },
  {
   "cell_type": "code",
   "execution_count": 12,
   "id": "3493b1b8",
   "metadata": {},
   "outputs": [
    {
     "data": {
      "text/plain": [
       "<AxesSubplot:>"
      ]
     },
     "execution_count": 12,
     "metadata": {},
     "output_type": "execute_result"
    },
    {
     "data": {
      "image/png": "[encoded data removed]",
      "text/plain": [
       "<Figure size 432x288 with 1 Axes>"
      ]
     },
     "metadata": {
      "needs_background": "light"
     },
     "output_type": "display_data"
    }
   ],
   "source": [
    "# Create a DataFrame containing training history\n",
    "history_df = pd.DataFrame(fit_model.history, index=range(1,len(fit_model.history[\"loss\"])+1))\n",
    "\n",
    "# Plot the loss\n",
    "history_df.plot(y=\"loss\")"
   ]
  },
  {
   "cell_type": "code",
   "execution_count": 13,
   "id": "136b39ae",
   "metadata": {},
   "outputs": [
    {
     "data": {
      "text/plain": [
       "<AxesSubplot:>"
      ]
     },
     "execution_count": 13,
     "metadata": {},
     "output_type": "execute_result"
    },
    {
     "data": {
      "image/png": "[encoded data removed]",
      "text/plain": [
       "<Figure size 432x288 with 1 Axes>"
      ]
     },
     "metadata": {
      "needs_background": "light"
     },
     "output_type": "display_data"
    }
   ],
   "source": [
    "# Plot the accuracy\n",
    "history_df.plot(y=\"accuracy\")"
   ]
  },
  {
   "cell_type": "code",
   "execution_count": 14,
   "id": "15db51ed",
   "metadata": {},
   "outputs": [
    {
     "name": "stdout",
     "output_type": "stream",
     "text": [
      "WARNING:tensorflow:AutoGraph could not transform <function Model.make_test_function.<locals>.test_function at 0x000001C28E537B88> and will run it as-is.\n",
      "Please report this to the TensorFlow team. When filing the bug, set the verbosity to 10 (on Linux, `export AUTOGRAPH_VERBOSITY=10`) and attach the full output.\n",
      "Cause: 'arguments' object has no attribute 'posonlyargs'\n",
      "To silence this warning, decorate the function with @tf.autograph.experimental.do_not_convert\n",
      "WARNING: AutoGraph could not transform <function Model.make_test_function.<locals>.test_function at 0x000001C28E537B88> and will run it as-is.\n",
      "Please report this to the TensorFlow team. When filing the bug, set the verbosity to 10 (on Linux, `export AUTOGRAPH_VERBOSITY=10`) and attach the full output.\n",
      "Cause: 'arguments' object has no attribute 'posonlyargs'\n",
      "To silence this warning, decorate the function with @tf.autograph.experimental.do_not_convert\n",
      "8/8 - 0s - loss: 0.0672 - accuracy: 1.0000 - 78ms/epoch - 10ms/step\n",
      "Loss: 0.06720881164073944, Accuracy: 1.0\n"
     ]
    }
   ],
   "source": [
    "# Evaluate the model using the test data\n",
    "model_loss, model_accuracy = nn_model.evaluate(X_test_scaled,y_test,verbose=2)\n",
    "print(f\"Loss: {model_loss}, Accuracy: {model_accuracy}\")"
   ]
  },
  {
   "cell_type": "code",
   "execution_count": 15,
   "id": "bf5154f0",
   "metadata": {},
   "outputs": [
    {
     "name": "stdout",
     "output_type": "stream",
     "text": [
      "WARNING:tensorflow:AutoGraph could not transform <function Model.make_predict_function.<locals>.predict_function at 0x000001C28E5A9CA8> and will run it as-is.\n",
      "Please report this to the TensorFlow team. When filing the bug, set the verbosity to 10 (on Linux, `export AUTOGRAPH_VERBOSITY=10`) and attach the full output.\n",
      "Cause: 'arguments' object has no attribute 'posonlyargs'\n",
      "To silence this warning, decorate the function with @tf.autograph.experimental.do_not_convert\n",
      "WARNING: AutoGraph could not transform <function Model.make_predict_function.<locals>.predict_function at 0x000001C28E5A9CA8> and will run it as-is.\n",
      "Please report this to the TensorFlow team. When filing the bug, set the verbosity to 10 (on Linux, `export AUTOGRAPH_VERBOSITY=10`) and attach the full output.\n",
      "Cause: 'arguments' object has no attribute 'posonlyargs'\n",
      "To silence this warning, decorate the function with @tf.autograph.experimental.do_not_convert\n"
     ]
    },
    {
     "data": {
      "text/plain": [
       "array([[0],\n",
       "       [1],\n",
       "       [0],\n",
       "       [1],\n",
       "       [0],\n",
       "       [0],\n",
       "       [1],\n",
       "       [1],\n",
       "       [1],\n",
       "       [0]])"
      ]
     },
     "execution_count": 15,
     "metadata": {},
     "output_type": "execute_result"
    }
   ],
   "source": [
    "# Predict the classification of a new set of blob data\n",
    "new_X, new_Y = make_blobs(n_samples=10, centers=2, n_features=2, random_state=78)\n",
    "new_X_scaled = X_scaler.transform(new_X)\n",
    "(nn_model.predict(new_X_scaled) > 0.5).astype(\"int32\")"
   ]
  },
  {
   "cell_type": "markdown",
   "id": "e458a050",
   "metadata": {},
   "source": [
    "## Non-linear data\n"
   ]
  },
  {
   "cell_type": "code",
   "execution_count": 16,
   "id": "6acd1621",
   "metadata": {},
   "outputs": [
    {
     "data": {
      "text/plain": [
       "<AxesSubplot:xlabel='Feature 1', ylabel='Feature 2'>"
      ]
     },
     "execution_count": 16,
     "metadata": {},
     "output_type": "execute_result"
    },
    {
     "data": {
      "image/png": "[encoded data removed]",
      "text/plain": [
       "<Figure size 432x288 with 2 Axes>"
      ]
     },
     "metadata": {
      "needs_background": "light"
     },
     "output_type": "display_data"
    }
   ],
   "source": [
    "from sklearn.datasets import make_moons\n",
    "\n",
    "# Creating dummy nonlinear data\n",
    "X_moons, y_moons = make_moons(n_samples=1000, noise=0.08, random_state=78)\n",
    "\n",
    "# Transforming y_moons to a vertical vector\n",
    "y_moons = y_moons.reshape(-1, 1)\n",
    "\n",
    "# Creating a DataFrame to plot the nonlinear dummy data\n",
    "df_moons = pd.DataFrame(X_moons, columns=[\"Feature 1\", \"Feature 2\"])\n",
    "df_moons[\"Target\"] = y_moons\n",
    "\n",
    "# Plot the nonlinear dummy data\n",
    "df_moons.plot.scatter(x=\"Feature 1\",y=\"Feature 2\", c=\"Target\",colormap=\"winter\")"
   ]
  },
  {
   "cell_type": "code",
   "execution_count": 17,
   "id": "31315aa6",
   "metadata": {},
   "outputs": [],
   "source": [
    "# Create training and testing sets\n",
    "X_moon_train, X_moon_test, y_moon_train, y_moon_test = train_test_split(\n",
    "    X_moons, y_moons, random_state=78\n",
    ")\n",
    "\n",
    "# Create the scaler instance\n",
    "X_moon_scaler = skl.preprocessing.StandardScaler()\n",
    "\n",
    "# Fit the scaler\n",
    "X_moon_scaler.fit(X_moon_train)\n",
    "\n",
    "# Scale the data\n",
    "X_moon_train_scaled = X_moon_scaler.transform(X_moon_train)\n",
    "X_moon_test_scaled = X_moon_scaler.transform(X_moon_test)"
   ]
  },
  {
   "cell_type": "code",
   "execution_count": 18,
   "id": "4471fcd4",
   "metadata": {},
   "outputs": [
    {
     "name": "stdout",
     "output_type": "stream",
     "text": [
      "Epoch 1/100\n",
      "24/24 [==============================] - 0s 911us/step - loss: 1.0708 - accuracy: 0.4880\n",
      "Epoch 2/100\n",
      "24/24 [==============================] - 0s 911us/step - loss: 0.9050 - accuracy: 0.5213\n",
      "Epoch 3/100\n",
      "24/24 [==============================] - 0s 824us/step - loss: 0.8024 - accuracy: 0.5507\n",
      "Epoch 4/100\n",
      "24/24 [==============================] - 0s 867us/step - loss: 0.7345 - accuracy: 0.5813\n",
      "Epoch 5/100\n",
      "24/24 [==============================] - 0s 911us/step - loss: 0.6835 - accuracy: 0.6027\n",
      "Epoch 6/100\n",
      "24/24 [==============================] - 0s 867us/step - loss: 0.6427 - accuracy: 0.6147\n",
      "Epoch 7/100\n",
      "24/24 [==============================] - 0s 911us/step - loss: 0.6074 - accuracy: 0.6333\n",
      "Epoch 8/100\n",
      "24/24 [==============================] - 0s 911us/step - loss: 0.5777 - accuracy: 0.6520\n",
      "Epoch 9/100\n",
      "24/24 [==============================] - 0s 954us/step - loss: 0.5510 - accuracy: 0.6680\n",
      "Epoch 10/100\n",
      "24/24 [==============================] - 0s 911us/step - loss: 0.5282 - accuracy: 0.6840\n",
      "Epoch 11/100\n",
      "24/24 [==============================] - 0s 824us/step - loss: 0.5077 - accuracy: 0.6893\n",
      "Epoch 12/100\n",
      "24/24 [==============================] - 0s 911us/step - loss: 0.4884 - accuracy: 0.7013\n",
      "Epoch 13/100\n",
      "24/24 [==============================] - 0s 911us/step - loss: 0.4715 - accuracy: 0.7173\n",
      "Epoch 14/100\n",
      "24/24 [==============================] - 0s 867us/step - loss: 0.4558 - accuracy: 0.7267\n",
      "Epoch 15/100\n",
      "24/24 [==============================] - 0s 867us/step - loss: 0.4416 - accuracy: 0.7413\n",
      "Epoch 16/100\n",
      "24/24 [==============================] - 0s 911us/step - loss: 0.4286 - accuracy: 0.7520\n",
      "Epoch 17/100\n",
      "24/24 [==============================] - 0s 911us/step - loss: 0.4167 - accuracy: 0.7627\n",
      "Epoch 18/100\n",
      "24/24 [==============================] - 0s 911us/step - loss: 0.4055 - accuracy: 0.7747\n",
      "Epoch 19/100\n",
      "24/24 [==============================] - 0s 824us/step - loss: 0.3954 - accuracy: 0.7813\n",
      "Epoch 20/100\n",
      "24/24 [==============================] - 0s 867us/step - loss: 0.3860 - accuracy: 0.7867\n",
      "Epoch 21/100\n",
      "24/24 [==============================] - 0s 911us/step - loss: 0.3771 - accuracy: 0.7893\n",
      "Epoch 22/100\n",
      "24/24 [==============================] - 0s 824us/step - loss: 0.3686 - accuracy: 0.7987\n",
      "Epoch 23/100\n",
      "24/24 [==============================] - 0s 867us/step - loss: 0.3610 - accuracy: 0.8013\n",
      "Epoch 24/100\n",
      "24/24 [==============================] - 0s 954us/step - loss: 0.3537 - accuracy: 0.8093\n",
      "Epoch 25/100\n",
      "24/24 [==============================] - 0s 954us/step - loss: 0.3473 - accuracy: 0.8173\n",
      "Epoch 26/100\n",
      "24/24 [==============================] - 0s 910us/step - loss: 0.3413 - accuracy: 0.8240\n",
      "Epoch 27/100\n",
      "24/24 [==============================] - 0s 867us/step - loss: 0.3360 - accuracy: 0.8307\n",
      "Epoch 28/100\n",
      "24/24 [==============================] - 0s 867us/step - loss: 0.3314 - accuracy: 0.8360\n",
      "Epoch 29/100\n",
      "24/24 [==============================] - 0s 954us/step - loss: 0.3270 - accuracy: 0.8427\n",
      "Epoch 30/100\n",
      "24/24 [==============================] - 0s 911us/step - loss: 0.3229 - accuracy: 0.8427\n",
      "Epoch 31/100\n",
      "24/24 [==============================] - 0s 954us/step - loss: 0.3192 - accuracy: 0.8480\n",
      "Epoch 32/100\n",
      "24/24 [==============================] - 0s 824us/step - loss: 0.3159 - accuracy: 0.8533\n",
      "Epoch 33/100\n",
      "24/24 [==============================] - 0s 867us/step - loss: 0.3128 - accuracy: 0.8560\n",
      "Epoch 34/100\n",
      "24/24 [==============================] - 0s 954us/step - loss: 0.3098 - accuracy: 0.8587\n",
      "Epoch 35/100\n",
      "24/24 [==============================] - 0s 1ms/step - loss: 0.3072 - accuracy: 0.8640\n",
      "Epoch 36/100\n",
      "24/24 [==============================] - 0s 954us/step - loss: 0.3046 - accuracy: 0.8653\n",
      "Epoch 37/100\n",
      "24/24 [==============================] - 0s 954us/step - loss: 0.3024 - accuracy: 0.8667\n",
      "Epoch 38/100\n",
      "24/24 [==============================] - 0s 911us/step - loss: 0.3001 - accuracy: 0.8680\n",
      "Epoch 39/100\n",
      "24/24 [==============================] - 0s 997us/step - loss: 0.2982 - accuracy: 0.8680\n",
      "Epoch 40/100\n",
      "24/24 [==============================] - 0s 911us/step - loss: 0.2961 - accuracy: 0.8707\n",
      "Epoch 41/100\n",
      "24/24 [==============================] - 0s 911us/step - loss: 0.2944 - accuracy: 0.8707\n",
      "Epoch 42/100\n",
      "24/24 [==============================] - 0s 867us/step - loss: 0.2927 - accuracy: 0.8707\n",
      "Epoch 43/100\n",
      "24/24 [==============================] - 0s 997us/step - loss: 0.2911 - accuracy: 0.8707\n",
      "Epoch 44/100\n",
      "24/24 [==============================] - 0s 910us/step - loss: 0.2897 - accuracy: 0.8720\n",
      "Epoch 45/100\n",
      "24/24 [==============================] - 0s 911us/step - loss: 0.2882 - accuracy: 0.8733\n",
      "Epoch 46/100\n",
      "24/24 [==============================] - 0s 954us/step - loss: 0.2869 - accuracy: 0.8733\n",
      "Epoch 47/100\n",
      "24/24 [==============================] - 0s 911us/step - loss: 0.2856 - accuracy: 0.8747\n",
      "Epoch 48/100\n",
      "24/24 [==============================] - 0s 867us/step - loss: 0.2845 - accuracy: 0.8733\n",
      "Epoch 49/100\n",
      "24/24 [==============================] - 0s 911us/step - loss: 0.2833 - accuracy: 0.8747\n",
      "Epoch 50/100\n",
      "24/24 [==============================] - 0s 954us/step - loss: 0.2823 - accuracy: 0.8773\n",
      "Epoch 51/100\n",
      "24/24 [==============================] - 0s 954us/step - loss: 0.2812 - accuracy: 0.8800\n",
      "Epoch 52/100\n",
      "24/24 [==============================] - 0s 911us/step - loss: 0.2805 - accuracy: 0.8800\n",
      "Epoch 53/100\n",
      "24/24 [==============================] - 0s 824us/step - loss: 0.2793 - accuracy: 0.8813\n",
      "Epoch 54/100\n",
      "24/24 [==============================] - 0s 911us/step - loss: 0.2783 - accuracy: 0.8813\n",
      "Epoch 55/100\n",
      "24/24 [==============================] - 0s 867us/step - loss: 0.2775 - accuracy: 0.8840\n",
      "Epoch 56/100\n",
      "24/24 [==============================] - 0s 867us/step - loss: 0.2766 - accuracy: 0.8840\n",
      "Epoch 57/100\n",
      "24/24 [==============================] - 0s 824us/step - loss: 0.2758 - accuracy: 0.8853\n",
      "Epoch 58/100\n",
      "24/24 [==============================] - 0s 824us/step - loss: 0.2751 - accuracy: 0.8880\n",
      "Epoch 59/100\n",
      "24/24 [==============================] - 0s 824us/step - loss: 0.2743 - accuracy: 0.8880\n",
      "Epoch 60/100\n",
      "24/24 [==============================] - 0s 824us/step - loss: 0.2736 - accuracy: 0.8880\n",
      "Epoch 61/100\n",
      "24/24 [==============================] - 0s 824us/step - loss: 0.2729 - accuracy: 0.8907\n",
      "Epoch 62/100\n",
      "24/24 [==============================] - 0s 824us/step - loss: 0.2722 - accuracy: 0.8907\n",
      "Epoch 63/100\n",
      "24/24 [==============================] - 0s 867us/step - loss: 0.2716 - accuracy: 0.8920\n",
      "Epoch 64/100\n",
      "24/24 [==============================] - 0s 824us/step - loss: 0.2710 - accuracy: 0.8920\n",
      "Epoch 65/100\n",
      "24/24 [==============================] - 0s 824us/step - loss: 0.2703 - accuracy: 0.8920\n",
      "Epoch 66/100\n",
      "24/24 [==============================] - 0s 824us/step - loss: 0.2698 - accuracy: 0.8933\n",
      "Epoch 67/100\n",
      "24/24 [==============================] - 0s 824us/step - loss: 0.2692 - accuracy: 0.8933\n",
      "Epoch 68/100\n",
      "24/24 [==============================] - 0s 824us/step - loss: 0.2687 - accuracy: 0.8933\n",
      "Epoch 69/100\n",
      "24/24 [==============================] - 0s 824us/step - loss: 0.2681 - accuracy: 0.8933\n",
      "Epoch 70/100\n",
      "24/24 [==============================] - 0s 824us/step - loss: 0.2677 - accuracy: 0.8933\n",
      "Epoch 71/100\n",
      "24/24 [==============================] - 0s 780us/step - loss: 0.2672 - accuracy: 0.8933\n",
      "Epoch 72/100\n",
      "24/24 [==============================] - 0s 824us/step - loss: 0.2667 - accuracy: 0.8933\n",
      "Epoch 73/100\n",
      "24/24 [==============================] - 0s 867us/step - loss: 0.2663 - accuracy: 0.8933\n",
      "Epoch 74/100\n",
      "24/24 [==============================] - 0s 824us/step - loss: 0.2659 - accuracy: 0.8933\n",
      "Epoch 75/100\n",
      "24/24 [==============================] - 0s 824us/step - loss: 0.2655 - accuracy: 0.8920\n",
      "Epoch 76/100\n",
      "24/24 [==============================] - 0s 824us/step - loss: 0.2650 - accuracy: 0.8920\n",
      "Epoch 77/100\n",
      "24/24 [==============================] - 0s 911us/step - loss: 0.2648 - accuracy: 0.8920\n",
      "Epoch 78/100\n",
      "24/24 [==============================] - 0s 824us/step - loss: 0.2643 - accuracy: 0.8920\n",
      "Epoch 79/100\n",
      "24/24 [==============================] - 0s 824us/step - loss: 0.2640 - accuracy: 0.8920\n",
      "Epoch 80/100\n",
      "24/24 [==============================] - 0s 824us/step - loss: 0.2636 - accuracy: 0.8920\n",
      "Epoch 81/100\n"
     ]
    },
    {
     "name": "stdout",
     "output_type": "stream",
     "text": [
      "24/24 [==============================] - 0s 824us/step - loss: 0.2634 - accuracy: 0.8920\n",
      "Epoch 82/100\n",
      "24/24 [==============================] - 0s 824us/step - loss: 0.2631 - accuracy: 0.8907\n",
      "Epoch 83/100\n",
      "24/24 [==============================] - 0s 824us/step - loss: 0.2627 - accuracy: 0.8907\n",
      "Epoch 84/100\n",
      "24/24 [==============================] - 0s 867us/step - loss: 0.2624 - accuracy: 0.8907\n",
      "Epoch 85/100\n",
      "24/24 [==============================] - 0s 824us/step - loss: 0.2621 - accuracy: 0.8920\n",
      "Epoch 86/100\n",
      "24/24 [==============================] - 0s 824us/step - loss: 0.2618 - accuracy: 0.8920\n",
      "Epoch 87/100\n",
      "24/24 [==============================] - 0s 824us/step - loss: 0.2615 - accuracy: 0.8920\n",
      "Epoch 88/100\n",
      "24/24 [==============================] - 0s 824us/step - loss: 0.2613 - accuracy: 0.8920\n",
      "Epoch 89/100\n",
      "24/24 [==============================] - 0s 824us/step - loss: 0.2610 - accuracy: 0.8920\n",
      "Epoch 90/100\n",
      "24/24 [==============================] - 0s 824us/step - loss: 0.2609 - accuracy: 0.8920\n",
      "Epoch 91/100\n",
      "24/24 [==============================] - 0s 824us/step - loss: 0.2605 - accuracy: 0.8920\n",
      "Epoch 92/100\n",
      "24/24 [==============================] - 0s 824us/step - loss: 0.2602 - accuracy: 0.8920\n",
      "Epoch 93/100\n",
      "24/24 [==============================] - 0s 824us/step - loss: 0.2600 - accuracy: 0.8920\n",
      "Epoch 94/100\n",
      "24/24 [==============================] - 0s 824us/step - loss: 0.2598 - accuracy: 0.8920\n",
      "Epoch 95/100\n",
      "24/24 [==============================] - 0s 867us/step - loss: 0.2597 - accuracy: 0.8920\n",
      "Epoch 96/100\n",
      "24/24 [==============================] - 0s 824us/step - loss: 0.2593 - accuracy: 0.8920\n",
      "Epoch 97/100\n",
      "24/24 [==============================] - 0s 1ms/step - loss: 0.2592 - accuracy: 0.8920\n",
      "Epoch 98/100\n",
      "24/24 [==============================] - 0s 1ms/step - loss: 0.2589 - accuracy: 0.8920\n",
      "Epoch 99/100\n",
      "24/24 [==============================] - 0s 911us/step - loss: 0.2587 - accuracy: 0.8920\n",
      "Epoch 100/100\n",
      "24/24 [==============================] - 0s 824us/step - loss: 0.2585 - accuracy: 0.8920\n"
     ]
    }
   ],
   "source": [
    "# Training the model with the nonlinear data\n",
    "model_moon = nn_model.fit(X_moon_train_scaled, y_moon_train, epochs=100, shuffle=True)\n"
   ]
  },
  {
   "cell_type": "code",
   "execution_count": 19,
   "id": "64035270",
   "metadata": {},
   "outputs": [
    {
     "data": {
      "text/plain": [
       "<AxesSubplot:>"
      ]
     },
     "execution_count": 19,
     "metadata": {},
     "output_type": "execute_result"
    },
    {
     "data": {
      "image/png": "[encoded data removed]",
      "text/plain": [
       "<Figure size 432x288 with 1 Axes>"
      ]
     },
     "metadata": {
      "needs_background": "light"
     },
     "output_type": "display_data"
    }
   ],
   "source": [
    "# Create a DataFrame containing training history\n",
    "history_df = pd.DataFrame(model_moon.history, index=range(1,len(model_moon.history[\"loss\"])+1))\n",
    "\n",
    "# Plot the loss\n",
    "history_df.plot(y=\"loss\")"
   ]
  },
  {
   "cell_type": "code",
   "execution_count": 20,
   "id": "77b22570",
   "metadata": {},
   "outputs": [
    {
     "data": {
      "text/plain": [
       "<AxesSubplot:>"
      ]
     },
     "execution_count": 20,
     "metadata": {},
     "output_type": "execute_result"
    },
    {
     "data": {
      "image/png": "[encoded data removed]",
      "text/plain": [
       "<Figure size 432x288 with 1 Axes>"
      ]
     },
     "metadata": {
      "needs_background": "light"
     },
     "output_type": "display_data"
    }
   ],
   "source": [
    "# Plot the accuracy\n",
    "history_df.plot(y=\"accuracy\")"
   ]
  },
  {
   "cell_type": "markdown",
   "id": "52eaf193",
   "metadata": {},
   "source": [
    "## Multi-layer"
   ]
  },
  {
   "cell_type": "code",
   "execution_count": 21,
   "id": "b9650ad9",
   "metadata": {},
   "outputs": [],
   "source": [
    "# Generate our new Sequential model\n",
    "new_model = tf.keras.models.Sequential()"
   ]
  },
  {
   "cell_type": "code",
   "execution_count": 22,
   "id": "c41a0523",
   "metadata": {},
   "outputs": [],
   "source": [
    "# Add the input and hidden layer\n",
    "number_inputs = 2\n",
    "number_hidden_nodes = 6\n",
    "\n",
    "new_model.add(tf.keras.layers.Dense(units=number_hidden_nodes, activation=\"relu\", input_dim=number_inputs))\n",
    "\n",
    "# Add the output layer that uses a probability activation function\n",
    "new_model.add(tf.keras.layers.Dense(units=1, activation=\"sigmoid\"))"
   ]
  },
  {
   "cell_type": "code",
   "execution_count": 23,
   "id": "6a93201b",
   "metadata": {},
   "outputs": [
    {
     "name": "stdout",
     "output_type": "stream",
     "text": [
      "Epoch 1/100\n",
      "WARNING:tensorflow:AutoGraph could not transform <function Model.make_train_function.<locals>.train_function at 0x000001C28E8B7828> and will run it as-is.\n",
      "Please report this to the TensorFlow team. When filing the bug, set the verbosity to 10 (on Linux, `export AUTOGRAPH_VERBOSITY=10`) and attach the full output.\n",
      "Cause: 'arguments' object has no attribute 'posonlyargs'\n",
      "To silence this warning, decorate the function with @tf.autograph.experimental.do_not_convert\n",
      "WARNING: AutoGraph could not transform <function Model.make_train_function.<locals>.train_function at 0x000001C28E8B7828> and will run it as-is.\n",
      "Please report this to the TensorFlow team. When filing the bug, set the verbosity to 10 (on Linux, `export AUTOGRAPH_VERBOSITY=10`) and attach the full output.\n",
      "Cause: 'arguments' object has no attribute 'posonlyargs'\n",
      "To silence this warning, decorate the function with @tf.autograph.experimental.do_not_convert\n",
      "24/24 [==============================] - 0s 703us/step - loss: 0.7267 - accuracy: 0.4573\n",
      "Epoch 2/100\n",
      "24/24 [==============================] - 0s 520us/step - loss: 0.6730 - accuracy: 0.4467\n",
      "Epoch 3/100\n",
      "24/24 [==============================] - 0s 607us/step - loss: 0.6252 - accuracy: 0.4587\n",
      "Epoch 4/100\n",
      "24/24 [==============================] - 0s 650us/step - loss: 0.5832 - accuracy: 0.5160\n",
      "Epoch 5/100\n",
      "24/24 [==============================] - 0s 694us/step - loss: 0.5459 - accuracy: 0.5760\n",
      "Epoch 6/100\n",
      "24/24 [==============================] - 0s 651us/step - loss: 0.5131 - accuracy: 0.6840\n",
      "Epoch 7/100\n",
      "24/24 [==============================] - 0s 650us/step - loss: 0.4844 - accuracy: 0.8600\n",
      "Epoch 8/100\n",
      "24/24 [==============================] - 0s 650us/step - loss: 0.4592 - accuracy: 0.8733\n",
      "Epoch 9/100\n",
      "24/24 [==============================] - 0s 607us/step - loss: 0.4368 - accuracy: 0.8787\n",
      "Epoch 10/100\n",
      "24/24 [==============================] - 0s 650us/step - loss: 0.4170 - accuracy: 0.8840\n",
      "Epoch 11/100\n",
      "24/24 [==============================] - 0s 607us/step - loss: 0.3995 - accuracy: 0.8840\n",
      "Epoch 12/100\n",
      "24/24 [==============================] - 0s 607us/step - loss: 0.3837 - accuracy: 0.8853\n",
      "Epoch 13/100\n",
      "24/24 [==============================] - 0s 607us/step - loss: 0.3699 - accuracy: 0.8867\n",
      "Epoch 14/100\n",
      "24/24 [==============================] - 0s 694us/step - loss: 0.3573 - accuracy: 0.8907\n",
      "Epoch 15/100\n",
      "24/24 [==============================] - 0s 650us/step - loss: 0.3463 - accuracy: 0.8907\n",
      "Epoch 16/100\n",
      "24/24 [==============================] - 0s 650us/step - loss: 0.3363 - accuracy: 0.8933\n",
      "Epoch 17/100\n",
      "24/24 [==============================] - 0s 650us/step - loss: 0.3272 - accuracy: 0.8960\n",
      "Epoch 18/100\n",
      "24/24 [==============================] - 0s 651us/step - loss: 0.3192 - accuracy: 0.9000\n",
      "Epoch 19/100\n",
      "24/24 [==============================] - 0s 607us/step - loss: 0.3119 - accuracy: 0.9013\n",
      "Epoch 20/100\n",
      "24/24 [==============================] - 0s 650us/step - loss: 0.3053 - accuracy: 0.9013\n",
      "Epoch 21/100\n",
      "24/24 [==============================] - 0s 651us/step - loss: 0.2996 - accuracy: 0.9013\n",
      "Epoch 22/100\n",
      "24/24 [==============================] - 0s 650us/step - loss: 0.2943 - accuracy: 0.9013\n",
      "Epoch 23/100\n",
      "24/24 [==============================] - 0s 650us/step - loss: 0.2895 - accuracy: 0.9013\n",
      "Epoch 24/100\n",
      "24/24 [==============================] - 0s 607us/step - loss: 0.2850 - accuracy: 0.9000\n",
      "Epoch 25/100\n",
      "24/24 [==============================] - 0s 651us/step - loss: 0.2813 - accuracy: 0.8987\n",
      "Epoch 26/100\n",
      "24/24 [==============================] - 0s 607us/step - loss: 0.2774 - accuracy: 0.9000\n",
      "Epoch 27/100\n",
      "24/24 [==============================] - 0s 607us/step - loss: 0.2742 - accuracy: 0.8987\n",
      "Epoch 28/100\n",
      "24/24 [==============================] - 0s 607us/step - loss: 0.2710 - accuracy: 0.8973\n",
      "Epoch 29/100\n",
      "24/24 [==============================] - 0s 651us/step - loss: 0.2680 - accuracy: 0.8973\n",
      "Epoch 30/100\n",
      "24/24 [==============================] - 0s 650us/step - loss: 0.2654 - accuracy: 0.8973\n",
      "Epoch 31/100\n",
      "24/24 [==============================] - 0s 607us/step - loss: 0.2630 - accuracy: 0.8987\n",
      "Epoch 32/100\n",
      "24/24 [==============================] - 0s 650us/step - loss: 0.2607 - accuracy: 0.9000\n",
      "Epoch 33/100\n",
      "24/24 [==============================] - 0s 650us/step - loss: 0.2587 - accuracy: 0.9027\n",
      "Epoch 34/100\n",
      "24/24 [==============================] - 0s 650us/step - loss: 0.2569 - accuracy: 0.9027\n",
      "Epoch 35/100\n",
      "24/24 [==============================] - 0s 650us/step - loss: 0.2553 - accuracy: 0.9027\n",
      "Epoch 36/100\n",
      "24/24 [==============================] - 0s 650us/step - loss: 0.2538 - accuracy: 0.9013\n",
      "Epoch 37/100\n",
      "24/24 [==============================] - 0s 650us/step - loss: 0.2522 - accuracy: 0.9027\n",
      "Epoch 38/100\n",
      "24/24 [==============================] - 0s 694us/step - loss: 0.2508 - accuracy: 0.9027\n",
      "Epoch 39/100\n",
      "24/24 [==============================] - 0s 650us/step - loss: 0.2494 - accuracy: 0.9013\n",
      "Epoch 40/100\n",
      "24/24 [==============================] - 0s 650us/step - loss: 0.2482 - accuracy: 0.9027\n",
      "Epoch 41/100\n",
      "24/24 [==============================] - 0s 650us/step - loss: 0.2469 - accuracy: 0.9013\n",
      "Epoch 42/100\n",
      "24/24 [==============================] - 0s 694us/step - loss: 0.2457 - accuracy: 0.9040\n",
      "Epoch 43/100\n",
      "24/24 [==============================] - 0s 737us/step - loss: 0.2447 - accuracy: 0.9013\n",
      "Epoch 44/100\n",
      "24/24 [==============================] - 0s 867us/step - loss: 0.2435 - accuracy: 0.9040\n",
      "Epoch 45/100\n",
      "24/24 [==============================] - 0s 954us/step - loss: 0.2425 - accuracy: 0.9040\n",
      "Epoch 46/100\n",
      "24/24 [==============================] - 0s 954us/step - loss: 0.2413 - accuracy: 0.9040\n",
      "Epoch 47/100\n",
      "24/24 [==============================] - 0s 650us/step - loss: 0.2404 - accuracy: 0.9040\n",
      "Epoch 48/100\n",
      "24/24 [==============================] - 0s 867us/step - loss: 0.2393 - accuracy: 0.9053\n",
      "Epoch 49/100\n",
      "24/24 [==============================] - 0s 737us/step - loss: 0.2383 - accuracy: 0.9053\n",
      "Epoch 50/100\n",
      "24/24 [==============================] - 0s 737us/step - loss: 0.2373 - accuracy: 0.9067\n",
      "Epoch 51/100\n",
      "24/24 [==============================] - 0s 911us/step - loss: 0.2362 - accuracy: 0.9067\n",
      "Epoch 52/100\n",
      "24/24 [==============================] - 0s 781us/step - loss: 0.2352 - accuracy: 0.9067\n",
      "Epoch 53/100\n",
      "24/24 [==============================] - 0s 737us/step - loss: 0.2343 - accuracy: 0.9053\n",
      "Epoch 54/100\n",
      "24/24 [==============================] - 0s 694us/step - loss: 0.2334 - accuracy: 0.9053\n",
      "Epoch 55/100\n",
      "24/24 [==============================] - 0s 694us/step - loss: 0.2325 - accuracy: 0.9067\n",
      "Epoch 56/100\n",
      "24/24 [==============================] - 0s 694us/step - loss: 0.2316 - accuracy: 0.9080\n",
      "Epoch 57/100\n",
      "24/24 [==============================] - 0s 694us/step - loss: 0.2307 - accuracy: 0.9080\n",
      "Epoch 58/100\n",
      "24/24 [==============================] - 0s 694us/step - loss: 0.2299 - accuracy: 0.9080\n",
      "Epoch 59/100\n",
      "24/24 [==============================] - 0s 694us/step - loss: 0.2292 - accuracy: 0.9080\n",
      "Epoch 60/100\n",
      "24/24 [==============================] - 0s 652us/step - loss: 0.2283 - accuracy: 0.9080\n",
      "Epoch 61/100\n",
      "24/24 [==============================] - 0s 694us/step - loss: 0.2276 - accuracy: 0.9067\n",
      "Epoch 62/100\n",
      "24/24 [==============================] - 0s 694us/step - loss: 0.2268 - accuracy: 0.9067\n",
      "Epoch 63/100\n",
      "24/24 [==============================] - 0s 650us/step - loss: 0.2261 - accuracy: 0.9053\n",
      "Epoch 64/100\n",
      "24/24 [==============================] - ETA: 0s - loss: 0.3120 - accuracy: 0.90 - 0s 650us/step - loss: 0.2254 - accuracy: 0.9053\n",
      "Epoch 65/100\n",
      "24/24 [==============================] - 0s 694us/step - loss: 0.2247 - accuracy: 0.9053\n",
      "Epoch 66/100\n",
      "24/24 [==============================] - 0s 607us/step - loss: 0.2241 - accuracy: 0.9053\n",
      "Epoch 67/100\n",
      "24/24 [==============================] - 0s 650us/step - loss: 0.2234 - accuracy: 0.9053\n",
      "Epoch 68/100\n",
      "24/24 [==============================] - 0s 650us/step - loss: 0.2228 - accuracy: 0.9067\n",
      "Epoch 69/100\n",
      "24/24 [==============================] - 0s 650us/step - loss: 0.2221 - accuracy: 0.9067\n",
      "Epoch 70/100\n",
      "24/24 [==============================] - 0s 650us/step - loss: 0.2216 - accuracy: 0.9067\n",
      "Epoch 71/100\n",
      "24/24 [==============================] - 0s 607us/step - loss: 0.2209 - accuracy: 0.9067\n"
     ]
    },
    {
     "name": "stdout",
     "output_type": "stream",
     "text": [
      "Epoch 72/100\n",
      "24/24 [==============================] - 0s 650us/step - loss: 0.2203 - accuracy: 0.9080\n",
      "Epoch 73/100\n",
      "24/24 [==============================] - 0s 650us/step - loss: 0.2198 - accuracy: 0.9067\n",
      "Epoch 74/100\n",
      "24/24 [==============================] - 0s 650us/step - loss: 0.2193 - accuracy: 0.9067\n",
      "Epoch 75/100\n",
      "24/24 [==============================] - 0s 694us/step - loss: 0.2189 - accuracy: 0.9080\n",
      "Epoch 76/100\n",
      "24/24 [==============================] - 0s 650us/step - loss: 0.2183 - accuracy: 0.9080\n",
      "Epoch 77/100\n",
      "24/24 [==============================] - 0s 650us/step - loss: 0.2179 - accuracy: 0.9080\n",
      "Epoch 78/100\n",
      "24/24 [==============================] - 0s 737us/step - loss: 0.2175 - accuracy: 0.9080\n",
      "Epoch 79/100\n",
      "24/24 [==============================] - 0s 650us/step - loss: 0.2171 - accuracy: 0.9080\n",
      "Epoch 80/100\n",
      "24/24 [==============================] - 0s 694us/step - loss: 0.2166 - accuracy: 0.9080\n",
      "Epoch 81/100\n",
      "24/24 [==============================] - 0s 650us/step - loss: 0.2162 - accuracy: 0.9080\n",
      "Epoch 82/100\n",
      "24/24 [==============================] - 0s 607us/step - loss: 0.2159 - accuracy: 0.9080\n",
      "Epoch 83/100\n",
      "24/24 [==============================] - 0s 650us/step - loss: 0.2155 - accuracy: 0.9080\n",
      "Epoch 84/100\n",
      "24/24 [==============================] - 0s 607us/step - loss: 0.2151 - accuracy: 0.9080\n",
      "Epoch 85/100\n",
      "24/24 [==============================] - 0s 607us/step - loss: 0.2148 - accuracy: 0.9080\n",
      "Epoch 86/100\n",
      "24/24 [==============================] - 0s 564us/step - loss: 0.2145 - accuracy: 0.9080\n",
      "Epoch 87/100\n",
      "24/24 [==============================] - 0s 607us/step - loss: 0.2141 - accuracy: 0.9080\n",
      "Epoch 88/100\n",
      "24/24 [==============================] - 0s 650us/step - loss: 0.2137 - accuracy: 0.9080\n",
      "Epoch 89/100\n",
      "24/24 [==============================] - 0s 694us/step - loss: 0.2134 - accuracy: 0.9067\n",
      "Epoch 90/100\n",
      "24/24 [==============================] - 0s 737us/step - loss: 0.2131 - accuracy: 0.9067\n",
      "Epoch 91/100\n",
      "24/24 [==============================] - 0s 607us/step - loss: 0.2128 - accuracy: 0.9067\n",
      "Epoch 92/100\n",
      "24/24 [==============================] - 0s 607us/step - loss: 0.2127 - accuracy: 0.9067\n",
      "Epoch 93/100\n",
      "24/24 [==============================] - 0s 607us/step - loss: 0.2122 - accuracy: 0.9053\n",
      "Epoch 94/100\n",
      "24/24 [==============================] - 0s 694us/step - loss: 0.2120 - accuracy: 0.9053\n",
      "Epoch 95/100\n",
      "24/24 [==============================] - 0s 650us/step - loss: 0.2117 - accuracy: 0.9053\n",
      "Epoch 96/100\n",
      "24/24 [==============================] - 0s 607us/step - loss: 0.2114 - accuracy: 0.9053\n",
      "Epoch 97/100\n",
      "24/24 [==============================] - 0s 607us/step - loss: 0.2112 - accuracy: 0.9053\n",
      "Epoch 98/100\n",
      "24/24 [==============================] - 0s 694us/step - loss: 0.2110 - accuracy: 0.9053\n",
      "Epoch 99/100\n",
      "24/24 [==============================] - 0s 694us/step - loss: 0.2108 - accuracy: 0.9053\n",
      "Epoch 100/100\n",
      "24/24 [==============================] - 0s 651us/step - loss: 0.2104 - accuracy: 0.9053\n"
     ]
    }
   ],
   "source": [
    "# Compile the Sequential model together and customize metrics\n",
    "new_model.compile(loss=\"binary_crossentropy\", optimizer=\"adam\", metrics=[\"accuracy\"])\n",
    "\n",
    "# Fit the model to the training data\n",
    "new_fit_model = new_model.fit(X_moon_train_scaled, y_moon_train, epochs=100, shuffle=True)"
   ]
  },
  {
   "cell_type": "code",
   "execution_count": null,
   "id": "5d3a687f",
   "metadata": {},
   "outputs": [],
   "source": []
  }
 ],
 "metadata": {
  "kernelspec": {
   "display_name": "mlenv",
   "language": "python",
   "name": "mlenv"
  },
  "language_info": {
   "codemirror_mode": {
    "name": "ipython",
    "version": 3
   },
   "file_extension": ".py",
   "mimetype": "text/x-python",
   "name": "python",
   "nbconvert_exporter": "python",
   "pygments_lexer": "ipython3",
   "version": "3.7.11"
  }
 },
 "nbformat": 4,
 "nbformat_minor": 5
}
